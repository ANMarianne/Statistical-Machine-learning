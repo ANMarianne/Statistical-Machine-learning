{
 "cells": [
  {
   "cell_type": "code",
   "execution_count": 1,
   "metadata": {
    "collapsed": true
   },
   "outputs": [],
   "source": [
    "import numpy as np\n",
    "import matplotlib.pyplot as plt\n",
    "import pandas as pd"
   ]
  },
  {
   "cell_type": "code",
   "execution_count": 2,
   "metadata": {
    "collapsed": true
   },
   "outputs": [],
   "source": [
    "# ##############################################################################\n",
    "# Returns a single sample from the conditional distribution p(beta_0 | beta_1, beta_2, tau, mu_0, tau_0, X, y)\n",
    "# ##############################################################################\n",
    "def sample_beta_0(y, x, beta_1, beta_2, tau, mu_0, tau_0):\n",
    "    N = len(y)\n",
    "    assert len(x) == N\n",
    "    # TODO: Task 1 - Implement a sample from the conditional distribution for beta_0\n",
    "    precision = tau * N + tau_0 \n",
    "    mean = (tau*sum(y) + tau_0*mu_0  - tau * sum((beta_1*x + beta_2*(x**2)))) / precision\n",
    "    return np.random.normal(mean, 1.0 / np.sqrt(precision))"
   ]
  },
  {
   "cell_type": "code",
   "execution_count": 3,
   "metadata": {
    "collapsed": true
   },
   "outputs": [],
   "source": [
    "# ##############################################################################\n",
    "# Returns a single sample from the conditional distribution p(beta_1 | beta_0, beta_2, tau, mu_1, tau_1, X, y)\n",
    "# ##############################################################################\n",
    "def sample_beta_1(y, x, beta_0, beta_2, tau, mu_1, tau_1):\n",
    "    N = len(y)\n",
    "    assert len(x) == N\n",
    "    # TODO: Task 2 - Implement a sample from the conditional distribution for beta_1\n",
    "    precision = tau * sum(x**2) + tau_1 \n",
    "    mean = (tau*sum(x*y) + tau_1*mu_1  - tau * sum(x*(beta_0+beta_2*x**2))) / precision\n",
    "    return np.random.normal(mean, 1 / np.sqrt(precision))"
   ]
  },
  {
   "cell_type": "code",
   "execution_count": 7,
   "metadata": {
    "collapsed": true
   },
   "outputs": [],
   "source": [
    "# ##############################################################################\n",
    "# Returns a single sample from the conditional distribution p(beta_2 | beta_0, beta_1, tau, mu_2, tau_2, X, y)\n",
    "# ##############################################################################\n",
    "def sample_beta_2(y, x, beta_0, beta_1, tau, mu_2, tau_2):\n",
    "    N = len(y)\n",
    "    assert len(x) == N\n",
    "    # TODO: Task 3 - Implement a sample from the conditional distribution for beta_2\n",
    "    precision = tau * sum(x**4) + tau_2 \n",
    "    mean = (tau*sum((x**2)*y) + tau_2*mu_2  - tau * sum((x**2)*(beta_0+beta_1*x))) / precision\n",
    "    return np.random.normal(mean, 1 / np.sqrt(precision))\n"
   ]
  },
  {
   "cell_type": "code",
   "execution_count": 8,
   "metadata": {
    "collapsed": true
   },
   "outputs": [],
   "source": [
    "# ##############################################################################\n",
    "# Returns a single sample from the conditional distribution p(tau | beta_0, beta_1, beta_2, alpha, beta, X, y)\n",
    "# ##############################################################################\n",
    "def sample_tau(y, x, beta_0, beta_1, beta_2, alpha, beta):\n",
    "    N = len(y)\n",
    "    # TODO: Task 4 - Implement a sample from the conditional distribution for tau\n",
    "    alpha_new = (N/2) + alpha\n",
    "    beta_new = (beta + (sum((y-(beta_0 + beta_1 * x + beta_2 * (x**2)))**2))/2)\n",
    "    return np.random.gamma(alpha_new,1/ beta_new)\n"
   ]
  },
  {
   "cell_type": "code",
   "execution_count": 9,
   "metadata": {
    "collapsed": false
   },
   "outputs": [
    {
     "name": "stdout",
     "output_type": "stream",
     "text": [
      "Sampling Coursework\n",
      "Beta 0 fit: correct\n",
      "-1.222477 < -1.000000 < -0.950419\n",
      "Beta 1 fit: correct\n",
      "1.944010 < 2.000000 < 2.058618\n",
      "Beta 2 fit: correct\n",
      "0.486413 < 0.500000 < 0.517927\n",
      "Tau fit: correct\n",
      "0.448161 < 0.500000 < 0.540909\n"
     ]
    }
   ],
   "source": [
    "# ##############################################################################\n",
    "# Performs Gibbs sampling using the conditional distributions and returns the\n",
    "# trace of the sampling process\n",
    "# ##############################################################################\n",
    "def gibbs(y, x, iters, init, hypers):\n",
    "    assert len(y) == len(x)\n",
    "    beta_0 = init[\"beta_0\"]\n",
    "    beta_1 = init[\"beta_1\"]\n",
    "    beta_2 = init[\"beta_2\"]\n",
    "    tau    =    init[\"tau\"]\n",
    "    mu_0   = hypers[\"mu_0\"]\n",
    "    tau_0  = hypers[\"tau_0\"]\n",
    "    mu_1   = hypers[\"mu_1\"]\n",
    "    tau_1  = hypers[\"tau_1\"]\n",
    "    mu_2   = hypers[\"mu_2\"]\n",
    "    tau_2  = hypers[\"tau_2\"]\n",
    "    alpha  = hypers[\"alpha\"]\n",
    "    beta   = hypers[\"beta\"]\n",
    "\n",
    "    trace = np.zeros((iters, 4))  ## trace to store values of beta_0, beta_1, beta_2, tau\n",
    "\n",
    "    for it in range(iters):\n",
    "        # TODO: Task 5 - Implement a Gibbs sampler\n",
    "        beta_0 = sample_beta_0(y, x, beta_1, beta_2, tau, mu_0, tau_0)\n",
    "        beta_1 = sample_beta_1(y, x, beta_0, beta_2, tau, mu_1, tau_1)\n",
    "        beta_2 = sample_beta_2(y, x, beta_0, beta_1, tau, mu_2, tau_2)\n",
    "        tau    = sample_tau(y, x, beta_0, beta_1, beta_2, alpha, beta)\n",
    "        trace[it, :] = np.array((beta_0, beta_1, beta_2, tau))\n",
    "    trace = pd.DataFrame(trace)\n",
    "    trace.columns = ['beta_0', 'beta_1', 'beta_2', 'tau']\n",
    "\n",
    "    return trace\n",
    "\n",
    "if __name__ == '__main__':\n",
    "    print('Sampling Coursework')\n",
    "    ##########################\n",
    "    # You can put your tests here - marking\n",
    "    # will be based on importing this code and calling\n",
    "    # specific functions with custom input.\n",
    "    ##########################\n",
    "\n",
    "    beta_0_true = -1\n",
    "    beta_1_true = 2\n",
    "    beta_2_true = 0.5\n",
    "    tau_true = 0.5\n",
    "\n",
    "    N = 2000\n",
    "    x = np.random.uniform(low=-3, high=6, size=N)\n",
    "    y = np.random.normal(beta_0_true + beta_1_true * x + beta_2_true * x ** 2, 1 / np.sqrt(tau_true))\n",
    "\n",
    "    ## specify initial values\n",
    "    init = {\"beta_0\": 0,\n",
    "            \"beta_1\": 0,\n",
    "            \"beta_2\": 0,\n",
    "            \"tau\": 2}\n",
    "\n",
    "    ## specify hyper parameters\n",
    "    hypers = {\"mu_0\": 0,\n",
    "              \"tau_0\": 1,\n",
    "              \"mu_1\": 0,\n",
    "              \"tau_1\": 1,\n",
    "              \"mu_2\": 0,\n",
    "              \"tau_2\": 1,\n",
    "              \"alpha\": 2,\n",
    "              \"beta\": 1}\n",
    "\n",
    "    iters = 1000\n",
    "\n",
    "    trace = gibbs(y, x, iters, init, hypers)\n",
    "\n",
    "    trace_burnt = trace[int(len(trace) / 2):]\n",
    "\n",
    "\n",
    "    factor = 3.\n",
    "\n",
    "    beta_0_med = trace_burnt['beta_0'].median()\n",
    "    beta_0_std = trace_burnt['beta_0'].std()\n",
    "    beta_0_low = beta_0_med - factor * beta_0_std\n",
    "    beta_0_hi = beta_0_med + factor * beta_0_std\n",
    "    print('Beta 0 fit: %s\\n%f < %f < %f' % ('correct' if (beta_0_low\n",
    "                                            < beta_0_true\n",
    "                                            < beta_0_hi) else 'incorrect', beta_0_low, beta_0_true, beta_0_hi))\n",
    "\n",
    "    beta_1_med = trace_burnt['beta_1'].median()\n",
    "    beta_1_std = trace_burnt['beta_1'].std()\n",
    "    beta_1_low = beta_1_med - factor * beta_1_std\n",
    "    beta_1_hi = beta_1_med + factor * beta_1_std\n",
    "    print('Beta 1 fit: %s\\n%f < %f < %f' % ('correct' if (beta_1_low\n",
    "                                                          < beta_1_true\n",
    "                                                          < beta_1_hi) else 'incorrect', beta_1_low, beta_1_true,\n",
    "                                            beta_1_hi))\n",
    "    beta_2_med = trace_burnt['beta_2'].median()\n",
    "    beta_2_std = trace_burnt['beta_2'].std()\n",
    "    beta_2_low = beta_2_med - factor * beta_2_std\n",
    "    beta_2_hi = beta_2_med + factor * beta_2_std\n",
    "    print('Beta 2 fit: %s\\n%f < %f < %f' % ('correct' if (beta_2_low\n",
    "                                                          < beta_2_true\n",
    "                                                          < beta_2_hi) else 'incorrect', beta_2_low, beta_2_true,\n",
    "                                            beta_2_hi))\n",
    "    tau_med = trace_burnt['tau'].median()\n",
    "    tau_std = trace_burnt['tau'].std()\n",
    "    tau_low = tau_med - factor * tau_std\n",
    "    tau_hi = tau_med + factor * tau_std\n",
    "    print('Tau fit: %s\\n%f < %f < %f' % ('correct' if (tau_low\n",
    "                                                          < tau_true\n",
    "                                                          < tau_hi) else 'incorrect', tau_low, tau_true,\n",
    "                                            tau_hi))"
   ]
  },
  {
   "cell_type": "code",
   "execution_count": null,
   "metadata": {
    "collapsed": false
   },
   "outputs": [],
   "source": []
  },
  {
   "cell_type": "code",
   "execution_count": null,
   "metadata": {
    "collapsed": true
   },
   "outputs": [],
   "source": []
  }
 ],
 "metadata": {
  "kernelspec": {
   "display_name": "Python 3",
   "language": "python",
   "name": "python3"
  },
  "language_info": {
   "codemirror_mode": {
    "name": "ipython",
    "version": 3
   },
   "file_extension": ".py",
   "mimetype": "text/x-python",
   "name": "python",
   "nbconvert_exporter": "python",
   "pygments_lexer": "ipython3",
   "version": "3.5.3"
  }
 },
 "nbformat": 4,
 "nbformat_minor": 2
}
